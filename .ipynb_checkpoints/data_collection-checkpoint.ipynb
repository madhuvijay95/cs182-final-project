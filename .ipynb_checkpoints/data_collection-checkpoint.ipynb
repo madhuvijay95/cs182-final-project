{
 "cells": [
  {
   "cell_type": "code",
   "execution_count": 2,
   "metadata": {
    "collapsed": false
   },
   "outputs": [],
   "source": [
    "import datetime\n",
    "import json\n",
    "import numpy as np\n",
    "import scipy as sp\n",
    "import pandas as pd\n",
    "import re\n",
    "pd.set_option('display.width', 500)\n",
    "pd.set_option('display.max_columns', 100)\n",
    "pd.set_option('display.notebook_repr_html', True)"
   ]
  },
  {
   "cell_type": "markdown",
   "metadata": {},
   "source": [
    "# CS 182: Data Collection and Cleaning\n",
    "\n",
    "We decided to use two data sets."
   ]
  },
  {
   "cell_type": "markdown",
   "metadata": {},
   "source": [
    "# Github Data \n",
    "\n",
    "Our primary data set is from Peter Downs via Github.\n",
    "\n",
    "Link: https://github.com/peterldowns/clickbait-classifier"
   ]
  },
  {
   "cell_type": "code",
   "execution_count": 3,
   "metadata": {
    "collapsed": false
   },
   "outputs": [],
   "source": [
    "# collect data\n",
    "df1 = pd.read_json('https://raw.githubusercontent.com/peterldowns/clickbait-classifier/master/data/buzzfeed.json')\n",
    "df2 = pd.read_json('https://raw.githubusercontent.com/peterldowns/clickbait-classifier/master/data/clickhole.json')\n",
    "df3 = pd.read_json('https://raw.githubusercontent.com/peterldowns/clickbait-classifier/master/data/dose.json')\n",
    "df4 = pd.read_json('https://raw.githubusercontent.com/peterldowns/clickbait-classifier/master/data/nytimes.json')"
   ]
  },
  {
   "cell_type": "code",
   "execution_count": 4,
   "metadata": {
    "collapsed": false
   },
   "outputs": [
    {
     "name": "stdout",
     "output_type": "stream",
     "text": [
      "There are 367 Buzzfeed, 3104 NYT, 547 Clickhole, and 2182 Daily Dose articles in the Github data set.\n"
     ]
    }
   ],
   "source": [
    "print 'There are', len(df1), 'Buzzfeed,', len(df4), 'NYT,', len(df2), 'Clickhole, and', len(df3), 'Daily Dose articles in the Github data set.'"
   ]
  },
  {
   "cell_type": "code",
   "execution_count": 5,
   "metadata": {
    "collapsed": true
   },
   "outputs": [],
   "source": [
    "# label data before concatenating\n",
    "df1['source'] = 'Buzzfeed'\n",
    "df2['source'] = 'Clickhole'\n",
    "df3['source'] = 'Daily Dose'\n",
    "df4['source'] = 'NY Times'"
   ]
  },
  {
   "cell_type": "code",
   "execution_count": 6,
   "metadata": {
    "collapsed": false
   },
   "outputs": [
    {
     "data": {
      "text/html": [
       "<div>\n",
       "<table border=\"1\" class=\"dataframe\">\n",
       "  <thead>\n",
       "    <tr style=\"text-align: right;\">\n",
       "      <th></th>\n",
       "      <th>article_title</th>\n",
       "      <th>article_url</th>\n",
       "      <th>clickbait</th>\n",
       "      <th>source</th>\n",
       "    </tr>\n",
       "  </thead>\n",
       "  <tbody>\n",
       "    <tr>\n",
       "      <th>0</th>\n",
       "      <td>23 Life Lessons Cosmo Kramer Taught Us</td>\n",
       "      <td>/javiermoreno/ife-lessons-you-learned-from-cos...</td>\n",
       "      <td>1</td>\n",
       "      <td>Buzzfeed</td>\n",
       "    </tr>\n",
       "    <tr>\n",
       "      <th>1</th>\n",
       "      <td>32 Men On TV Who Made You Thirsty In 2014</td>\n",
       "      <td>/erinlarosa/32-tv-men-who-made-you-thirsty-in-...</td>\n",
       "      <td>1</td>\n",
       "      <td>Buzzfeed</td>\n",
       "    </tr>\n",
       "    <tr>\n",
       "      <th>2</th>\n",
       "      <td>Hilary Duff Was The Walking Queen Of 2014</td>\n",
       "      <td>/lyapalater/hilary-duff-was-the-walking-queen-...</td>\n",
       "      <td>1</td>\n",
       "      <td>Buzzfeed</td>\n",
       "    </tr>\n",
       "    <tr>\n",
       "      <th>3</th>\n",
       "      <td>25 Reasons Wine Is Definitely Your Soulmate</td>\n",
       "      <td>/emleschh/25-reasons-why-wine-is-your-soulmate...</td>\n",
       "      <td>1</td>\n",
       "      <td>Buzzfeed</td>\n",
       "    </tr>\n",
       "    <tr>\n",
       "      <th>4</th>\n",
       "      <td>This Master Carver Making Pliers From One Stic...</td>\n",
       "      <td>/norbertobriceno/ernest-macguyver-warther</td>\n",
       "      <td>1</td>\n",
       "      <td>Buzzfeed</td>\n",
       "    </tr>\n",
       "  </tbody>\n",
       "</table>\n",
       "</div>"
      ],
      "text/plain": [
       "                                       article_title                                        article_url  clickbait    source\n",
       "0             23 Life Lessons Cosmo Kramer Taught Us  /javiermoreno/ife-lessons-you-learned-from-cos...          1  Buzzfeed\n",
       "1          32 Men On TV Who Made You Thirsty In 2014  /erinlarosa/32-tv-men-who-made-you-thirsty-in-...          1  Buzzfeed\n",
       "2          Hilary Duff Was The Walking Queen Of 2014  /lyapalater/hilary-duff-was-the-walking-queen-...          1  Buzzfeed\n",
       "3        25 Reasons Wine Is Definitely Your Soulmate  /emleschh/25-reasons-why-wine-is-your-soulmate...          1  Buzzfeed\n",
       "4  This Master Carver Making Pliers From One Stic...          /norbertobriceno/ernest-macguyver-warther          1  Buzzfeed"
      ]
     },
     "execution_count": 6,
     "metadata": {},
     "output_type": "execute_result"
    }
   ],
   "source": [
    "# join publications\n",
    "gh_data = pd.concat([df1[['article_title','article_url','clickbait','source']], df2, df3, df4[['article_title','clickbait','source']]])\n",
    "gh_data.head()"
   ]
  },
  {
   "cell_type": "code",
   "execution_count": 8,
   "metadata": {
    "collapsed": false
   },
   "outputs": [],
   "source": [
    "gh_data.to_csv('gh_data.csv')"
   ]
  },
  {
   "cell_type": "markdown",
   "metadata": {},
   "source": [
    "# Kaggle UCI Data\n",
    "\n",
    "Our supplementary data set is the UCI data set, which contains headlines, URLs, and categories for 422,937 news stories collected by a web aggregator between March 10th, 2014 and August 10th, 2014. According to Wikipedia, clickbait was already ubiquitous on the web by 2014, so the time captured by this data set is appropriate (https://en.wikipedia.org/wiki/Clickbait).\n",
    "\n",
    "Link: https://www.kaggle.com/uciml/news-aggregator-dataset"
   ]
  },
  {
   "cell_type": "code",
   "execution_count": 15,
   "metadata": {
    "collapsed": false
   },
   "outputs": [],
   "source": [
    "df = pd.read_csv('uci-news-aggregator.csv')"
   ]
  },
  {
   "cell_type": "code",
   "execution_count": 16,
   "metadata": {
    "collapsed": false
   },
   "outputs": [
    {
     "data": {
      "text/html": [
       "<div>\n",
       "<table border=\"1\" class=\"dataframe\">\n",
       "  <thead>\n",
       "    <tr style=\"text-align: right;\">\n",
       "      <th></th>\n",
       "      <th>ID</th>\n",
       "      <th>TITLE</th>\n",
       "      <th>URL</th>\n",
       "      <th>PUBLISHER</th>\n",
       "      <th>CATEGORY</th>\n",
       "      <th>STORY</th>\n",
       "      <th>HOSTNAME</th>\n",
       "      <th>TIMESTAMP</th>\n",
       "    </tr>\n",
       "  </thead>\n",
       "  <tbody>\n",
       "    <tr>\n",
       "      <th>0</th>\n",
       "      <td>1</td>\n",
       "      <td>Fed official says weak data caused by weather,...</td>\n",
       "      <td>http://www.latimes.com/business/money/la-fi-mo...</td>\n",
       "      <td>Los Angeles Times</td>\n",
       "      <td>b</td>\n",
       "      <td>ddUyU0VZz0BRneMioxUPQVP6sIxvM</td>\n",
       "      <td>www.latimes.com</td>\n",
       "      <td>1394470370698</td>\n",
       "    </tr>\n",
       "  </tbody>\n",
       "</table>\n",
       "</div>"
      ],
      "text/plain": [
       "   ID                                              TITLE                                                URL          PUBLISHER CATEGORY                          STORY         HOSTNAME      TIMESTAMP\n",
       "0   1  Fed official says weak data caused by weather,...  http://www.latimes.com/business/money/la-fi-mo...  Los Angeles Times        b  ddUyU0VZz0BRneMioxUPQVP6sIxvM  www.latimes.com  1394470370698"
      ]
     },
     "execution_count": 16,
     "metadata": {},
     "output_type": "execute_result"
    }
   ],
   "source": [
    "df.head(1)"
   ]
  },
  {
   "cell_type": "code",
   "execution_count": 17,
   "metadata": {
    "collapsed": false
   },
   "outputs": [],
   "source": [
    "# convert unix time to readable format\n",
    "df['DATE'] = [datetime.datetime.fromtimestamp(int(x)/1000).strftime('%Y-%m-%d') for x in df['TIMESTAMP']]"
   ]
  },
  {
   "cell_type": "code",
   "execution_count": 18,
   "metadata": {
    "collapsed": false
   },
   "outputs": [
    {
     "data": {
      "text/html": [
       "<div>\n",
       "<table border=\"1\" class=\"dataframe\">\n",
       "  <thead>\n",
       "    <tr style=\"text-align: right;\">\n",
       "      <th></th>\n",
       "      <th>ID</th>\n",
       "      <th>TITLE</th>\n",
       "      <th>URL</th>\n",
       "      <th>PUBLISHER</th>\n",
       "      <th>CATEGORY</th>\n",
       "      <th>STORY</th>\n",
       "      <th>HOSTNAME</th>\n",
       "      <th>TIMESTAMP</th>\n",
       "      <th>DATE</th>\n",
       "    </tr>\n",
       "  </thead>\n",
       "  <tbody>\n",
       "    <tr>\n",
       "      <th>0</th>\n",
       "      <td>1</td>\n",
       "      <td>Fed official says weak data caused by weather,...</td>\n",
       "      <td>http://www.latimes.com/business/money/la-fi-mo...</td>\n",
       "      <td>Los Angeles Times</td>\n",
       "      <td>b</td>\n",
       "      <td>ddUyU0VZz0BRneMioxUPQVP6sIxvM</td>\n",
       "      <td>www.latimes.com</td>\n",
       "      <td>1394470370698</td>\n",
       "      <td>2014-03-10</td>\n",
       "    </tr>\n",
       "  </tbody>\n",
       "</table>\n",
       "</div>"
      ],
      "text/plain": [
       "   ID                                              TITLE                                                URL          PUBLISHER CATEGORY                          STORY         HOSTNAME      TIMESTAMP        DATE\n",
       "0   1  Fed official says weak data caused by weather,...  http://www.latimes.com/business/money/la-fi-mo...  Los Angeles Times        b  ddUyU0VZz0BRneMioxUPQVP6sIxvM  www.latimes.com  1394470370698  2014-03-10"
      ]
     },
     "execution_count": 18,
     "metadata": {},
     "output_type": "execute_result"
    }
   ],
   "source": [
    "df.head(1)"
   ]
  },
  {
   "cell_type": "code",
   "execution_count": 19,
   "metadata": {
    "collapsed": false
   },
   "outputs": [
    {
     "data": {
      "text/html": [
       "<div>\n",
       "<table border=\"1\" class=\"dataframe\">\n",
       "  <thead>\n",
       "    <tr style=\"text-align: right;\">\n",
       "      <th></th>\n",
       "      <th>HOSTNAME</th>\n",
       "      <th>ID</th>\n",
       "    </tr>\n",
       "  </thead>\n",
       "  <tbody>\n",
       "    <tr>\n",
       "      <th>0</th>\n",
       "      <td>in.reuters.com</td>\n",
       "      <td>2877</td>\n",
       "    </tr>\n",
       "    <tr>\n",
       "      <th>1</th>\n",
       "      <td>www.huffingtonpost.com</td>\n",
       "      <td>2603</td>\n",
       "    </tr>\n",
       "    <tr>\n",
       "      <th>2</th>\n",
       "      <td>www.businessweek.com</td>\n",
       "      <td>2420</td>\n",
       "    </tr>\n",
       "    <tr>\n",
       "      <th>3</th>\n",
       "      <td>www.contactmusic.com</td>\n",
       "      <td>2334</td>\n",
       "    </tr>\n",
       "    <tr>\n",
       "      <th>4</th>\n",
       "      <td>www.dailymail.co.uk</td>\n",
       "      <td>2258</td>\n",
       "    </tr>\n",
       "    <tr>\n",
       "      <th>5</th>\n",
       "      <td>www.nasdaq.com</td>\n",
       "      <td>2228</td>\n",
       "    </tr>\n",
       "    <tr>\n",
       "      <th>6</th>\n",
       "      <td>www.examiner.com</td>\n",
       "      <td>2085</td>\n",
       "    </tr>\n",
       "    <tr>\n",
       "      <th>7</th>\n",
       "      <td>www.globalpost.com</td>\n",
       "      <td>1975</td>\n",
       "    </tr>\n",
       "    <tr>\n",
       "      <th>8</th>\n",
       "      <td>www.latimes.com</td>\n",
       "      <td>1913</td>\n",
       "    </tr>\n",
       "    <tr>\n",
       "      <th>9</th>\n",
       "      <td>www.bizjournals.com</td>\n",
       "      <td>1882</td>\n",
       "    </tr>\n",
       "  </tbody>\n",
       "</table>\n",
       "</div>"
      ],
      "text/plain": [
       "                 HOSTNAME    ID\n",
       "0          in.reuters.com  2877\n",
       "1  www.huffingtonpost.com  2603\n",
       "2    www.businessweek.com  2420\n",
       "3    www.contactmusic.com  2334\n",
       "4     www.dailymail.co.uk  2258\n",
       "5          www.nasdaq.com  2228\n",
       "6        www.examiner.com  2085\n",
       "7      www.globalpost.com  1975\n",
       "8         www.latimes.com  1913\n",
       "9     www.bizjournals.com  1882"
      ]
     },
     "execution_count": 19,
     "metadata": {},
     "output_type": "execute_result"
    }
   ],
   "source": [
    "# top 10 publications represented in the data set\n",
    "df[['HOSTNAME','ID']].groupby('HOSTNAME').agg('count').sort('ID', ascending = False).reset_index().head(10)"
   ]
  },
  {
   "cell_type": "code",
   "execution_count": 20,
   "metadata": {
    "collapsed": false,
    "scrolled": false
   },
   "outputs": [
    {
     "data": {
      "text/plain": [
       "['in.reuters.com',\n",
       " 'www.huffingtonpost.com',\n",
       " 'www.businessweek.com',\n",
       " 'www.contactmusic.com',\n",
       " 'www.dailymail.co.uk',\n",
       " 'www.nasdaq.com',\n",
       " 'www.examiner.com',\n",
       " 'www.globalpost.com',\n",
       " 'www.latimes.com',\n",
       " 'www.bizjournals.com']"
      ]
     },
     "execution_count": 20,
     "metadata": {},
     "output_type": "execute_result"
    }
   ],
   "source": [
    "list(df[['HOSTNAME','ID']].groupby('HOSTNAME').agg('count').sort('ID', ascending = False).reset_index().head(10)['HOSTNAME'])"
   ]
  },
  {
   "cell_type": "code",
   "execution_count": 21,
   "metadata": {
    "collapsed": false,
    "scrolled": false
   },
   "outputs": [],
   "source": [
    "import sys\n",
    "reload(sys)\n",
    "sys.setdefaultencoding('utf-8')\n",
    "\n",
    "# clickbait column\n",
    "df['CLICKBAIT'] = 0\n",
    "\n",
    "df.loc[df['HOSTNAME'] == 'www.aceshowbiz.com', 'CLICKBAIT'] = 1\n",
    "df.loc[df['HOSTNAME'] == 'www.buzzfeed.com', 'CLICKBAIT'] = 1\n",
    "df.loc[df['HOSTNAME'] == 'www.uproxx.com', 'CLICKBAIT'] = 1\n",
    "df.loc[df['HOSTNAME'] == 'www.people.com', 'CLICKBAIT'] = 1\n",
    "df.loc[df['HOSTNAME'] == 'www.inquisitr.com', 'CLICKBAIT'] = 0\n",
    "df.loc[df['HOSTNAME'] == 'www.streetinsider.com', 'CLICKBAIT'] = 0\n",
    "df.loc[df['HOSTNAME'] == 'www.moneynews.com', 'CLICKBAIT'] = 0\n",
    "df.loc[df['HOSTNAME'] == 'www.bostonglobe.com', 'CLICKBAIT'] = 0\n",
    "\n",
    "# add these rows to github data\n",
    "extra_df = df[df['HOSTNAME'].isin(['www.aceshowbiz.com', 'www.buzzfeed.com', 'www.uproxx.com',\n",
    "                                  'www.people.com', 'www.inquisitr.com', 'www.streetinsider.com',\n",
    "                                  'www.moneynews.com', 'www.bostonglobe.com'])]\n",
    "extra_df = extra_df[['TITLE','URL','CLICKBAIT','PUBLISHER']]\n",
    "extra_df.columns = ['article_title','article_url','clickbait','source']\n",
    "\n",
    "# merge dataframes\n",
    "gh_data2 = pd.concat([gh_data, extra_df])\n",
    "gh_data2.head()\n",
    "\n",
    "gh_data2.to_csv('augmented.csv')"
   ]
  },
  {
   "cell_type": "code",
   "execution_count": 1,
   "metadata": {
    "collapsed": false
   },
   "outputs": [
    {
     "ename": "NameError",
     "evalue": "name 'gh_data2' is not defined",
     "output_type": "error",
     "traceback": [
      "\u001b[0;31m---------------------------------------------------------------------------\u001b[0m",
      "\u001b[0;31mNameError\u001b[0m                                 Traceback (most recent call last)",
      "\u001b[0;32m<ipython-input-1-13507f2255a2>\u001b[0m in \u001b[0;36m<module>\u001b[0;34m()\u001b[0m\n\u001b[0;32m----> 1\u001b[0;31m \u001b[0;34m\"Number of observations\"\u001b[0m\u001b[0;34m,\u001b[0m \u001b[0;34m+\u001b[0m \u001b[0mlen\u001b[0m\u001b[0;34m(\u001b[0m\u001b[0mgh_data2\u001b[0m\u001b[0;34m)\u001b[0m\u001b[0;34m\u001b[0m\u001b[0m\n\u001b[0m",
      "\u001b[0;31mNameError\u001b[0m: name 'gh_data2' is not defined"
     ]
    }
   ],
   "source": [
    "\"Number of observations\", + len(gh_data2)"
   ]
  },
  {
   "cell_type": "code",
   "execution_count": 31,
   "metadata": {
    "collapsed": false
   },
   "outputs": [],
   "source": [
    "print \"Number clickbait\", + float(len(gh_data2[gh_data2.clickbait == 1]))\n",
    "print \"Percentage clickbait\", + float(len(gh_data2[gh_data2.clickbait == 1]))/len(gh_data2)"
   ]
  },
  {
   "cell_type": "code",
   "execution_count": 115,
   "metadata": {
    "collapsed": false
   },
   "outputs": [],
   "source": [
    "# bias is 0 if liberal  \n",
    "df['BIAS'] = 0\n",
    "\n",
    "# conservative\n",
    "df.loc[df['HOSTNAME'] == 'www.breitbart.com', 'BIAS'] = 1\n",
    "df.loc[df['HOSTNAME'] == 'www.theblaze.com', 'BIAS'] = 1\n",
    "df.loc[df['HOSTNAME'] == 'www.rushlimbaugh.com', 'BIAS'] = 1\n",
    "df.loc[df['HOSTNAME'] == 'www.foxnews.com', 'BIAS'] = 1\n",
    "df.loc[df['HOSTNAME'] == 'nypost.com', 'BIAS'] = 1\n",
    "\n",
    "# liberal\n",
    "df.loc[df['HOSTNAME'] == 'www.theguardian.com', 'BIAS'] = 0\n",
    "df.loc[df['HOSTNAME'] == 'www.nytimes.com', 'BIAS'] = 0\n",
    "df.loc[df['HOSTNAME'] == 'www.slate.com', 'BIAS'] = 0\n",
    "df.loc[df['HOSTNAME'] == 'www.newyorker.com', 'BIAS'] = 0\n",
    "df.loc[df['HOSTNAME'] == 'www.aljazeera.com', 'BIAS'] = 0\n",
    "\n",
    "# political csv\n",
    "polit_df = df[df['HOSTNAME'].isin(['www.breitbart.com','www.theblaze.com','www.rushlimbaugh.com',\n",
    "                                  'www.foxnews.com','www.drudge.com','www.theguardian.com','www.nytimes.com',\n",
    "                                  'www.slate.com','www.newyorker.com','www.aljazeera.com'])]\n",
    "\n",
    "polit_df.to_csv('politics.csv')"
   ]
  }
 ],
 "metadata": {
  "kernelspec": {
   "display_name": "Python 2",
   "language": "python",
   "name": "python2"
  },
  "language_info": {
   "codemirror_mode": {
    "name": "ipython",
    "version": 2
   },
   "file_extension": ".py",
   "mimetype": "text/x-python",
   "name": "python",
   "nbconvert_exporter": "python",
   "pygments_lexer": "ipython2",
   "version": "2.7.12"
  }
 },
 "nbformat": 4,
 "nbformat_minor": 1
}
