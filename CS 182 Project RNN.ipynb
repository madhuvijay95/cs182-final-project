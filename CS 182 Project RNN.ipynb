{
 "cells": [
  {
   "cell_type": "markdown",
   "metadata": {},
   "source": [
    "# CS 182: RNN\n",
    "\n",
    "We decided to use two data sets.\n",
    "\n",
    "# Github Data \n",
    "\n",
    "Our primary data set is from Peter Downs via Github.\n",
    "\n",
    "Link: https://github.com/peterldowns/clickbait-classifier"
   ]
  },
  {
   "cell_type": "code",
   "execution_count": 51,
   "metadata": {
    "collapsed": false
   },
   "outputs": [],
   "source": [
    "from __future__ import absolute_import\n",
    "from __future__ import division\n",
    "from __future__ import print_function\n",
    "\n",
    "import argparse\n",
    "import sys\n",
    "import subprocess\n",
    "import os\n",
    "\n",
    "import numpy as np\n",
    "import pandas\n",
    "from sklearn import metrics\n",
    "import tensorflow as tf\n",
    "\n",
    "from tensorflow.contrib import learn\n",
    "\n",
    "FLAGS = None\n",
    "\n",
    "MAX_DOCUMENT_LENGTH = 10\n",
    "EMBEDDING_SIZE = 50\n",
    "n_words = 0\n",
    "\n",
    "\n",
    "def bag_of_words_model(features, target):\n",
    "  \"\"\"A bag-of-words model. Note it disregards the word order in the text.\"\"\"\n",
    "  target = tf.one_hot(target, 15, 1, 0)\n",
    "  features = tf.contrib.layers.bow_encoder(\n",
    "      features, vocab_size=n_words, embed_dim=EMBEDDING_SIZE)\n",
    "  logits = tf.contrib.layers.fully_connected(features, 15, activation_fn=None)\n",
    "  loss = tf.contrib.losses.softmax_cross_entropy(logits, target)\n",
    "  train_op = tf.contrib.layers.optimize_loss(\n",
    "      loss, tf.contrib.framework.get_global_step(),\n",
    "      optimizer='Adam', learning_rate=0.01)\n",
    "  return (\n",
    "      {'class': tf.argmax(logits, 1), 'prob': tf.nn.softmax(logits)},\n",
    "      loss, train_op)\n",
    "\n",
    "\n",
    "def rnn_model(features, target):\n",
    "  \"\"\"RNN model to predict from sequence of words to a class.\"\"\"\n",
    "  # Convert indexes of words into embeddings.\n",
    "  # This creates embeddings matrix of [n_words, EMBEDDING_SIZE] and then\n",
    "  # maps word indexes of the sequence into [batch_size, sequence_length,\n",
    "  # EMBEDDING_SIZE].\n",
    "  word_vectors = tf.contrib.layers.embed_sequence(\n",
    "      features, vocab_size=n_words, embed_dim=EMBEDDING_SIZE, scope='words')\n",
    "\n",
    "  # Split into list of embedding per word, while removing doc length dim.\n",
    "  # word_list results to be a list of tensors [batch_size, EMBEDDING_SIZE].\n",
    "  word_list = tf.unstack(word_vectors, axis=1)\n",
    "\n",
    "  # Create a Gated Recurrent Unit cell with hidden size of EMBEDDING_SIZE.\n",
    "  cell = tf.nn.rnn_cell.GRUCell(EMBEDDING_SIZE)\n",
    "\n",
    "  # Create an unrolled Recurrent Neural Networks to length of\n",
    "  # MAX_DOCUMENT_LENGTH and passes word_list as inputs for each unit.\n",
    "  _, encoding = tf.nn.rnn(cell, word_list, dtype=tf.float32)\n",
    "\n",
    "  # Given encoding of RNN, take encoding of last step (e.g hidden size of the\n",
    "  # neural network of last step) and pass it as features for logistic\n",
    "  # regression over output classes.\n",
    "  target = tf.one_hot(target, 2, 1, 0)\n",
    "  logits = tf.contrib.layers.fully_connected(encoding, 2, activation_fn=None)\n",
    "  loss = tf.contrib.losses.softmax_cross_entropy(logits, target)\n",
    "\n",
    "  # Create a training op.\n",
    "  train_op = tf.contrib.layers.optimize_loss(\n",
    "      loss, tf.contrib.framework.get_global_step(),\n",
    "      optimizer='Adam', learning_rate=0.01)\n",
    "\n",
    "  return (\n",
    "      {'class': tf.argmax(logits, 1), 'prob': tf.nn.softmax(logits)},\n",
    "      loss, train_op)"
   ]
  },
  {
   "cell_type": "code",
   "execution_count": 52,
   "metadata": {
    "collapsed": false
   },
   "outputs": [],
   "source": [
    "def removeNonAscii(s): return \"\".join(i for i in s if ord(i)<128)\n",
    "def removeCommas(s): return \"\".join(i for i in s if i != ',')\n",
    "\n",
    "def modifyCSV(filename):\n",
    "    augmented_df = pandas.read_csv(filename)\n",
    "    del augmented_df['article_url']\n",
    "    del augmented_df['source']\n",
    "    \n",
    "    cleaner = lambda x: removeCommas(removeNonAscii(x))\n",
    "    augmented_df['article_title'] = augmented_df['article_title'].map(cleaner)\n",
    "    mycsv = augmented_df.to_csv(index=False, header=False)\n",
    "    newarticles = open('rnn_' + filename, 'w')\n",
    "    newarticles.write(mycsv)\n",
    "    newarticles.close()\n",
    "    \n",
    "modifyCSV('train.csv')\n",
    "modifyCSV('test.csv')"
   ]
  },
  {
   "cell_type": "code",
   "execution_count": 53,
   "metadata": {
    "collapsed": false
   },
   "outputs": [],
   "source": [
    "from tensorflow.contrib.learn.python.learn.datasets import base\n",
    "\n",
    "train = base.load_csv_without_header(\n",
    "    filename=\"rnn_train.csv\",\n",
    "    target_dtype=np.int,\n",
    "    features_dtype=np.str)\n",
    "test = base.load_csv_without_header(\n",
    "    filename=\"rnn_test.csv\",\n",
    "    target_dtype=np.int,\n",
    "    features_dtype=np.str)\n",
    "\n",
    "dataset = base.Datasets(train=train, validation=None, test=test)\n",
    "x_train = pandas.DataFrame(dataset.train.data)[0]\n",
    "y_train = pandas.Series(dataset.train.target)\n",
    "x_test = pandas.DataFrame(dataset.test.data)[0]\n",
    "y_test = pandas.Series(dataset.test.target)"
   ]
  },
  {
   "cell_type": "code",
   "execution_count": 54,
   "metadata": {
    "collapsed": false
   },
   "outputs": [
    {
     "name": "stdout",
     "output_type": "stream",
     "text": [
      "Total words: 16084\n"
     ]
    }
   ],
   "source": [
    "# Process vocabulary\n",
    "vocab_processor = learn.preprocessing.VocabularyProcessor(MAX_DOCUMENT_LENGTH)\n",
    "x_train = np.array(list(vocab_processor.fit_transform(x_train)))\n",
    "x_test = np.array(list(vocab_processor.transform(x_test)))\n",
    "n_words = len(vocab_processor.vocabulary_)\n",
    "print('Total words: %d' % n_words)"
   ]
  },
  {
   "cell_type": "code",
   "execution_count": 55,
   "metadata": {
    "collapsed": false
   },
   "outputs": [
    {
     "name": "stdout",
     "output_type": "stream",
     "text": [
      "WARNING:tensorflow:Using temporary folder as model directory: /var/folders/mn/_fsc84wx2gl7k2j81cpk_kkc0000gn/T/tmpvahM2R\n",
      "INFO:tensorflow:Using default config.\n",
      "INFO:tensorflow:Using config: {'save_summary_steps': 100, '_num_ps_replicas': 0, '_task_type': None, '_environment': 'local', '_is_chief': True, 'save_checkpoints_secs': 600, '_cluster_spec': <tensorflow.python.training.server_lib.ClusterSpec object at 0x120eaad10>, 'tf_config': gpu_options {\n",
      "  per_process_gpu_memory_fraction: 1\n",
      "}\n",
      ", '_task_id': 0, 'tf_random_seed': None, 'keep_checkpoint_every_n_hours': 10000, '_evaluation_master': '', 'save_checkpoints_steps': None, '_master': '', 'keep_checkpoint_max': 5}\n",
      "WARNING:tensorflow:From <ipython-input-55-f0d445f480f0>:5 in <module>.: calling fit (from tensorflow.contrib.learn.python.learn.estimators.estimator) with x is deprecated and will be removed after 2016-12-01.\n",
      "Instructions for updating:\n",
      "Estimator is decoupled from Scikit Learn interface by moving into\n",
      "separate class SKCompat. Arguments x, y and batch_size are only\n",
      "available in the SKCompat class, Estimator will only accept input_fn.\n",
      "Example conversion:\n",
      "  est = Estimator(...) -> est = SKCompat(Estimator(...))\n",
      "WARNING:tensorflow:From <ipython-input-55-f0d445f480f0>:5 in <module>.: calling fit (from tensorflow.contrib.learn.python.learn.estimators.estimator) with y is deprecated and will be removed after 2016-12-01.\n",
      "Instructions for updating:\n",
      "Estimator is decoupled from Scikit Learn interface by moving into\n",
      "separate class SKCompat. Arguments x, y and batch_size are only\n",
      "available in the SKCompat class, Estimator will only accept input_fn.\n",
      "Example conversion:\n",
      "  est = Estimator(...) -> est = SKCompat(Estimator(...))\n",
      "INFO:tensorflow:Create CheckpointSaverHook.\n",
      "INFO:tensorflow:loss = 0.693412, step = 1\n",
      "INFO:tensorflow:Saving checkpoints for 1 into /var/folders/mn/_fsc84wx2gl7k2j81cpk_kkc0000gn/T/tmpvahM2R/model.ckpt.\n",
      "WARNING:tensorflow:*******************************************************\n",
      "WARNING:tensorflow:TensorFlow's V1 checkpoint format has been deprecated.\n",
      "WARNING:tensorflow:Consider switching to the more efficient V2 format:\n",
      "WARNING:tensorflow:   `tf.train.Saver(write_version=tf.train.SaverDef.V2)`\n",
      "WARNING:tensorflow:now on by default.\n",
      "WARNING:tensorflow:*******************************************************\n",
      "INFO:tensorflow:Saving checkpoints for 100 into /var/folders/mn/_fsc84wx2gl7k2j81cpk_kkc0000gn/T/tmpvahM2R/model.ckpt.\n",
      "WARNING:tensorflow:*******************************************************\n",
      "WARNING:tensorflow:TensorFlow's V1 checkpoint format has been deprecated.\n",
      "WARNING:tensorflow:Consider switching to the more efficient V2 format:\n",
      "WARNING:tensorflow:   `tf.train.Saver(write_version=tf.train.SaverDef.V2)`\n",
      "WARNING:tensorflow:now on by default.\n",
      "WARNING:tensorflow:*******************************************************\n",
      "INFO:tensorflow:Loss for final step: 1.64641e-05.\n",
      "WARNING:tensorflow:From <ipython-input-55-f0d445f480f0>:7 in <module>.: calling predict (from tensorflow.contrib.learn.python.learn.estimators.estimator) with x is deprecated and will be removed after 2016-12-01.\n",
      "Instructions for updating:\n",
      "Estimator is decoupled from Scikit Learn interface by moving into\n",
      "separate class SKCompat. Arguments x, y and batch_size are only\n",
      "available in the SKCompat class, Estimator will only accept input_fn.\n",
      "Example conversion:\n",
      "  est = Estimator(...) -> est = SKCompat(Estimator(...))\n",
      "WARNING:tensorflow:From <ipython-input-55-f0d445f480f0>:7 in <module>.: calling predict (from tensorflow.contrib.learn.python.learn.estimators.estimator) with as_iterable is deprecated and will be removed after 2016-12-01.\n",
      "Instructions for updating:\n",
      "Estimator is decoupled from Scikit Learn interface by moving into\n",
      "separate class SKCompat. Arguments x, y and batch_size are only\n",
      "available in the SKCompat class, Estimator will only accept input_fn.\n",
      "Example conversion:\n",
      "  est = Estimator(...) -> est = SKCompat(Estimator(...))\n",
      "INFO:tensorflow:Loading model from checkpoint: /var/folders/mn/_fsc84wx2gl7k2j81cpk_kkc0000gn/T/tmpvahM2R/model.ckpt-100-?????-of-00001.\n",
      "Accuracy: 0.857188\n"
     ]
    }
   ],
   "source": [
    "### RNN Classifier ###\n",
    "\n",
    "model_fn = rnn_model\n",
    "classifier = learn.Estimator(model_fn=model_fn)\n",
    "classifier.fit(x_train, y_train, steps=100)\n",
    "y_predicted = [\n",
    "      p['class'] for p in classifier.predict(x_test, as_iterable=True)]\n",
    "score = metrics.accuracy_score(y_test, y_predicted)\n",
    "print('Accuracy: {0:f}'.format(score))"
   ]
  },
  {
   "cell_type": "code",
   "execution_count": 50,
   "metadata": {
    "collapsed": false
   },
   "outputs": [
    {
     "data": {
      "text/plain": [
       "\"\\nCP(1)                     BSD General Commands Manual                    CP(1)\\n\\nN\\x08NA\\x08AM\\x08ME\\x08E\\n     c\\x08cp\\x08p -- copy files\\n\\nS\\x08SY\\x08YN\\x08NO\\x08OP\\x08PS\\x08SI\\x08IS\\x08S\\n     c\\x08cp\\x08p [-\\x08-R\\x08R [-\\x08-H\\x08H | -\\x08-L\\x08L | -\\x08-P\\x08P]] [-\\x08-f\\x08fi\\x08i | -\\x08-n\\x08n] [-\\x08-a\\x08ap\\x08pv\\x08vX\\x08X] _\\x08s_\\x08o_\\x08u_\\x08r_\\x08c_\\x08e_\\x08__\\x08f_\\x08i_\\x08l_\\x08e _\\x08t_\\x08a_\\x08r_\\x08g_\\x08e_\\x08t_\\x08__\\x08f_\\x08i_\\x08l_\\x08e\\n     c\\x08cp\\x08p [-\\x08-R\\x08R [-\\x08-H\\x08H | -\\x08-L\\x08L | -\\x08-P\\x08P]] [-\\x08-f\\x08fi\\x08i | -\\x08-n\\x08n] [-\\x08-a\\x08ap\\x08pv\\x08vX\\x08X] _\\x08s_\\x08o_\\x08u_\\x08r_\\x08c_\\x08e_\\x08__\\x08f_\\x08i_\\x08l_\\x08e _\\x08._\\x08._\\x08.\\n        _\\x08t_\\x08a_\\x08r_\\x08g_\\x08e_\\x08t_\\x08__\\x08d_\\x08i_\\x08r_\\x08e_\\x08c_\\x08t_\\x08o_\\x08r_\\x08y\\n\\nD\\x08DE\\x08ES\\x08SC\\x08CR\\x08RI\\x08IP\\x08PT\\x08TI\\x08IO\\x08ON\\x08N\\n     In the first synopsis form, the c\\x08cp\\x08p utility copies the contents of the\\n     _\\x08s_\\x08o_\\x08u_\\x08r_\\x08c_\\x08e_\\x08__\\x08f_\\x08i_\\x08l_\\x08e to the _\\x08t_\\x08a_\\x08r_\\x08g_\\x08e_\\x08t_\\x08__\\x08f_\\x08i_\\x08l_\\x08e.  In the second synopsis form, the con-\\n     tents of each named _\\x08s_\\x08o_\\x08u_\\x08r_\\x08c_\\x08e_\\x08__\\x08f_\\x08i_\\x08l_\\x08e is copied to the destination\\n     _\\x08t_\\x08a_\\x08r_\\x08g_\\x08e_\\x08t_\\x08__\\x08d_\\x08i_\\x08r_\\x08e_\\x08c_\\x08t_\\x08o_\\x08r_\\x08y.  The names of the files themselves are not changed.  If\\n     c\\x08cp\\x08p detects an attempt to copy a file to itself, the copy will fail.\\n\\n     The following options are available:\\n\\n     -\\x08-a\\x08a    Same as -\\x08-p\\x08pP\\x08PR\\x08R options. Preserves structure and attributes of files\\n           but not directory structure.\\n\\n     -\\x08-f\\x08f    If the destination file cannot be opened, remove it and create a\\n           new file, without prompting for confirmation regardless of its per-\\n           missions.  (The -\\x08-f\\x08f option overrides any previous -\\x08-n\\x08n option.)\\n\\n           The target file is not unlinked before the copy.  Thus, any exist-\\n           ing access rights will be retained.\\n\\n     -\\x08-H\\x08H    If the -\\x08-R\\x08R option is specified, symbolic links on the command line\\n           are followed.  (Symbolic links encountered in the tree traversal\\n           are not followed.)\\n\\n     -\\x08-i\\x08i    Cause c\\x08cp\\x08p to write a prompt to the standard error output before\\n           copying a file that would overwrite an existing file.  If the\\n           response from the standard input begins with the character `y' or\\n           `Y', the file copy is attempted.  (The -\\x08-i\\x08i option overrides any pre-\\n           vious -\\x08-n\\x08n option.)\\n\\n     -\\x08-L\\x08L    If the -\\x08-R\\x08R option is specified, all symbolic links are followed.\\n\\n     -\\x08-n\\x08n    Do not overwrite an existing file.  (The -\\x08-n\\x08n option overrides any\\n           previous -\\x08-f\\x08f or -\\x08-i\\x08i options.)\\n\\n     -\\x08-P\\x08P    If the -\\x08-R\\x08R option is specified, no symbolic links are followed.\\n           This is the default.\\n\\n     -\\x08-p\\x08p    Cause c\\x08cp\\x08p to preserve the following attributes of each source file\\n           in the copy: modification time, access time, file flags, file mode,\\n           user ID, and group ID, as allowed by permissions.  Access Control\\n           Lists (ACLs) and Extended Attributes (EAs), including resource\\n           forks, will also be preserved.\\n\\n           If the user ID and group ID cannot be preserved, no error message\\n           is displayed and the exit value is not altered.\\n\\n           If the source file has its set-user-ID bit on and the user ID can-\\n           not be preserved, the set-user-ID bit is not preserved in the\\n           copy's permissions.  If the source file has its set-group-ID bit on\\n           and the group ID cannot be preserved, the set-group-ID bit is not\\n           preserved in the copy's permissions.  If the source file has both\\n           its set-user-ID and set-group-ID bits on, and either the user ID or\\n           group ID cannot be preserved, neither the set-user-ID nor set-\\n           group-ID bits are preserved in the copy's permissions.\\n\\n     -\\x08-R\\x08R    If _\\x08s_\\x08o_\\x08u_\\x08r_\\x08c_\\x08e_\\x08__\\x08f_\\x08i_\\x08l_\\x08e designates a directory, c\\x08cp\\x08p copies the directory and\\n           the entire subtree connected at that point.  If the _\\x08s_\\x08o_\\x08u_\\x08r_\\x08c_\\x08e_\\x08__\\x08f_\\x08i_\\x08l_\\x08e\\n           ends in a _\\x08/, the contents of the directory are copied rather than\\n           the directory itself.  This option also causes symbolic links to be\\n           copied, rather than indirected through, and for c\\x08cp\\x08p to create spe-\\n           cial files rather than copying them as normal files.  Created\\n           directories have the same mode as the corresponding source direc-\\n           tory, unmodified by the process' umask.\\n\\n           In -\\x08-R\\x08R mode, c\\x08cp\\x08p will continue copying even if errors are detected.\\n\\n           Note that c\\x08cp\\x08p copies hard-linked files as separate files.  If you\\n           need to preserve hard links, consider using tar(1), cpio(1), or\\n           pax(1) instead.\\n\\n     -\\x08-v\\x08v    Cause c\\x08cp\\x08p to be verbose, showing files as they are copied.\\n\\n     -\\x08-X\\x08X    Do not copy Extended Attributes (EAs) or resource forks.\\n\\n     For each destination file that already exists, its contents are overwrit-\\n     ten if permissions allow.  Its mode, user ID, and group ID are unchanged\\n     unless the -\\x08-p\\x08p option was specified.\\n\\n     In the second synopsis form, _\\x08t_\\x08a_\\x08r_\\x08g_\\x08e_\\x08t_\\x08__\\x08d_\\x08i_\\x08r_\\x08e_\\x08c_\\x08t_\\x08o_\\x08r_\\x08y must exist unless there is\\n     only one named _\\x08s_\\x08o_\\x08u_\\x08r_\\x08c_\\x08e_\\x08__\\x08f_\\x08i_\\x08l_\\x08e which is a directory and the -\\x08-R\\x08R flag is speci-\\n     fied.\\n\\n     If the destination file does not exist, the mode of the source file is\\n     used as modified by the file mode creation mask (u\\x08um\\x08ma\\x08as\\x08sk\\x08k, see csh(1)).  If\\n     the source file has its set-user-ID bit on, that bit is removed unless\\n     both the source file and the destination file are owned by the same user.\\n     If the source file has its set-group-ID bit on, that bit is removed\\n     unless both the source file and the destination file are in the same\\n     group and the user is a member of that group.  If both the set-user-ID\\n     and set-group-ID bits are set, all of the above conditions must be ful-\\n     filled or both bits are removed.\\n\\n     Appropriate permissions are required for file creation or overwriting.\\n\\n     Symbolic links are always followed unless the -\\x08-R\\x08R flag is set, in which\\n     case symbolic links are not followed, by default.  The -\\x08-H\\x08H or -\\x08-L\\x08L flags (in\\n     conjunction with the -\\x08-R\\x08R flag) cause symbolic links to be followed as\\n     described above.  The -\\x08-H\\x08H, -\\x08-L\\x08L and -\\x08-P\\x08P options are ignored unless the -\\x08-R\\x08R\\n     option is specified.  In addition, these options override each other and\\n     the command's actions are determined by the last one specified.\\n\\n     If c\\x08cp\\x08p receives a SIGINFO (see the s\\x08st\\x08ta\\x08at\\x08tu\\x08us\\x08s argument for stty(1)) signal,\\n     the current input and output file and the percentage complete will be\\n     written to the standard output.\\n\\nE\\x08EX\\x08XI\\x08IT\\x08T S\\x08ST\\x08TA\\x08AT\\x08TU\\x08US\\x08S\\n     The c\\x08cp\\x08p utility exits 0 on success, and >0 if an error occurs.\\n\\nC\\x08CO\\x08OM\\x08MP\\x08PA\\x08AT\\x08TI\\x08IB\\x08BI\\x08IL\\x08LI\\x08IT\\x08TY\\x08Y\\n     Historic versions of the c\\x08cp\\x08p utility had a -\\x08-r\\x08r option.  This implementation\\n     supports that option; however, its use is strongly discouraged, as it\\n     does not correctly copy special files, symbolic links, or fifo's.\\n\\n     The -\\x08-v\\x08v and -\\x08-n\\x08n options are non-standard and their use in scripts is not\\n     recommended.\\n\\nL\\x08LE\\x08EG\\x08GA\\x08AC\\x08CY\\x08Y D\\x08DE\\x08ES\\x08SC\\x08CR\\x08RI\\x08IP\\x08PT\\x08TI\\x08IO\\x08ON\\x08N\\n     In legacy mode, -\\x08-f\\x08f will override -\\x08-i\\x08i.  Also, under the -\\x08-f\\x08f option, the tar-\\n     get file is always unlinked before the copy.  Thus, new access rights\\n     will always be set.\\n\\n     In -\\x08-R\\x08R mode, copying will terminate if an error is encountered.\\n\\n     For more information about legacy mode, see compat(5).\\n\\nS\\x08SE\\x08EE\\x08E A\\x08AL\\x08LS\\x08SO\\x08O\\n     mv(1), rcp(1), umask(2), fts(3), compat(5), symlink(7)\\n\\nS\\x08ST\\x08TA\\x08AN\\x08ND\\x08DA\\x08AR\\x08RD\\x08DS\\x08S\\n     The c\\x08cp\\x08p command is expected to be IEEE Std 1003.2 (``POSIX.2'') compati-\\n     ble.\\n\\nH\\x08HI\\x08IS\\x08ST\\x08TO\\x08OR\\x08RY\\x08Y\\n     A c\\x08cp\\x08p command appeared in Version 1 AT&T UNIX.\\n\\nBSD                            February 23, 2005                           BSD\\n\""
      ]
     },
     "execution_count": 50,
     "metadata": {},
     "output_type": "execute_result"
    }
   ],
   "source": [
    "### RNN text generation (note: requires a lot of setup, see https://github.com/jcjohnson/torch-rnn for instructions) ###\n",
    "\n",
    "# Sanitize clickbait titles for use in generation (all lowercase)\n",
    "\n",
    "augmented_df = pandas.read_csv('augmented.csv')\n",
    "augmented_df = augmented_df[augmented_df['clickbait'] == 1]\n",
    "del augmented_df['article_url']\n",
    "del augmented_df['source']\n",
    "del augmented_df['Unnamed: 0']\n",
    "del augmented_df['clickbait']\n",
    "augmented_df['article_title'] = augmented_df['article_title'].map(lambda x: removeNonAscii(x).lower())\n",
    "mycsv = augmented_df.to_csv(index=False, header=False)\n",
    "newarticles = open('rnn_gen_input.txt', 'w')\n",
    "newarticles.write(mycsv)\n",
    "newarticles.close()\n",
    "\n",
    "torchPath = '../torch/torch-rnn/'\n",
    "subprocess.call([\"cp\", \"rnn_gen_input.txt\", torchPath + \"data/\"])\n",
    "#subprocess.call([\"cd\", torchPath])\n",
    "os.system(\"cd ../torch/torch-rnn && th sample.lua -checkpoint cv/checkpoint_249950.t7 -length 2000 -gpu -1 > somemoreresults.txt\")\n",
    "#f = open('rnn_gen_results.txt', 'w')\n",
    "#subprocess.call([\"cd\", torchPath, \"&&\", \"th\", \"sample.lua\", \"-checkpoint\", \"cv/checkpoint_249950.t7\", \"-length\", \"2000\", \"-gpu\", \"-1\"], stdout=f)"
   ]
  },
  {
   "cell_type": "code",
   "execution_count": 36,
   "metadata": {
    "collapsed": false
   },
   "outputs": [
    {
     "data": {
      "text/plain": [
       "0"
      ]
     },
     "execution_count": 36,
     "metadata": {},
     "output_type": "execute_result"
    }
   ],
   "source": []
  },
  {
   "cell_type": "code",
   "execution_count": null,
   "metadata": {
    "collapsed": true
   },
   "outputs": [],
   "source": []
  }
 ],
 "metadata": {
  "anaconda-cloud": {},
  "kernelspec": {
   "display_name": "Python [Root]",
   "language": "python",
   "name": "Python [Root]"
  },
  "language_info": {
   "codemirror_mode": {
    "name": "ipython",
    "version": 2
   },
   "file_extension": ".py",
   "mimetype": "text/x-python",
   "name": "python",
   "nbconvert_exporter": "python",
   "pygments_lexer": "ipython2",
   "version": "2.7.12"
  }
 },
 "nbformat": 4,
 "nbformat_minor": 1
}
