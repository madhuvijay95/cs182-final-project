{
 "cells": [
  {
   "cell_type": "markdown",
   "metadata": {},
   "source": [
    "# CS 182: RNN\n",
    "\n",
    "We decided to use two data sets.\n",
    "\n",
    "# Github Data \n",
    "\n",
    "Our primary data set is from Peter Downs via Github.\n",
    "\n",
    "Link: https://github.com/peterldowns/clickbait-classifier"
   ]
  },
  {
   "cell_type": "code",
   "execution_count": 6,
   "metadata": {
    "collapsed": false
   },
   "outputs": [],
   "source": [
    "from __future__ import absolute_import\n",
    "from __future__ import division\n",
    "from __future__ import print_function\n",
    "\n",
    "import argparse\n",
    "import sys\n",
    "import subprocess\n",
    "import os\n",
    "\n",
    "import numpy as np\n",
    "import pandas\n",
    "from sklearn import metrics\n",
    "import tensorflow as tf\n",
    "\n",
    "from tensorflow.contrib import learn\n",
    "\n",
    "FLAGS = None\n",
    "\n",
    "MAX_DOCUMENT_LENGTH = 10\n",
    "EMBEDDING_SIZE = 50\n",
    "n_words = 0\n",
    "\n",
    "\n",
    "def bag_of_words_model(features, target):\n",
    "  \"\"\"A bag-of-words model. Note it disregards the word order in the text.\"\"\"\n",
    "  target = tf.one_hot(target, 15, 1, 0)\n",
    "  features = tf.contrib.layers.bow_encoder(\n",
    "      features, vocab_size=n_words, embed_dim=EMBEDDING_SIZE)\n",
    "  logits = tf.contrib.layers.fully_connected(features, 15, activation_fn=None)\n",
    "  loss = tf.contrib.losses.softmax_cross_entropy(logits, target)\n",
    "  train_op = tf.contrib.layers.optimize_loss(\n",
    "      loss, tf.contrib.framework.get_global_step(),\n",
    "      optimizer='Adam', learning_rate=0.01)\n",
    "  return (\n",
    "      {'class': tf.argmax(logits, 1), 'prob': tf.nn.softmax(logits)},\n",
    "      loss, train_op)\n",
    "\n",
    "\n",
    "def rnn_model(features, target):\n",
    "  \"\"\"RNN model to predict from sequence of words to a class.\"\"\"\n",
    "  # Convert indexes of words into embeddings.\n",
    "  # This creates embeddings matrix of [n_words, EMBEDDING_SIZE] and then\n",
    "  # maps word indexes of the sequence into [batch_size, sequence_length,\n",
    "  # EMBEDDING_SIZE].\n",
    "  word_vectors = tf.contrib.layers.embed_sequence(\n",
    "      features, vocab_size=n_words, embed_dim=EMBEDDING_SIZE, scope='words')\n",
    "\n",
    "  # Split into list of embedding per word, while removing doc length dim.\n",
    "  # word_list results to be a list of tensors [batch_size, EMBEDDING_SIZE].\n",
    "  word_list = tf.unstack(word_vectors, axis=1)\n",
    "\n",
    "  # Create a Gated Recurrent Unit cell with hidden size of EMBEDDING_SIZE.\n",
    "  cell = tf.nn.rnn_cell.GRUCell(EMBEDDING_SIZE)\n",
    "\n",
    "  # Create an unrolled Recurrent Neural Networks to length of\n",
    "  # MAX_DOCUMENT_LENGTH and passes word_list as inputs for each unit.\n",
    "  _, encoding = tf.nn.rnn(cell, word_list, dtype=tf.float32)\n",
    "\n",
    "  # Given encoding of RNN, take encoding of last step (e.g hidden size of the\n",
    "  # neural network of last step) and pass it as features for logistic\n",
    "  # regression over output classes.\n",
    "  target = tf.one_hot(target, 2, 1, 0)\n",
    "  logits = tf.contrib.layers.fully_connected(encoding, 2, activation_fn=None)\n",
    "  loss = tf.contrib.losses.softmax_cross_entropy(logits, target)\n",
    "\n",
    "  # Create a training op.\n",
    "  train_op = tf.contrib.layers.optimize_loss(\n",
    "      loss, tf.contrib.framework.get_global_step(),\n",
    "      optimizer='Adam', learning_rate=0.01)\n",
    "\n",
    "  return (\n",
    "      {'class': tf.argmax(logits, 1), 'prob': tf.nn.softmax(logits)},\n",
    "      loss, train_op)"
   ]
  },
  {
   "cell_type": "code",
   "execution_count": 7,
   "metadata": {
    "collapsed": false
   },
   "outputs": [],
   "source": [
    "def removeNonAscii(s): return \"\".join(i for i in s if ord(i)<128)\n",
    "def removeCommas(s): return \"\".join(i for i in s if i != ',')\n",
    "\n",
    "def modifyCSV(filename):\n",
    "    augmented_df = pandas.read_csv(filename)\n",
    "    del augmented_df['article_url']\n",
    "    del augmented_df['source']\n",
    "    \n",
    "    cleaner = lambda x: removeCommas(removeNonAscii(x))\n",
    "    augmented_df['article_title'] = augmented_df['article_title'].map(cleaner)\n",
    "    mycsv = augmented_df.to_csv(index=False, header=False)\n",
    "    newarticles = open('rnn_' + filename, 'w')\n",
    "    newarticles.write(mycsv)\n",
    "    newarticles.close()\n",
    "    \n",
    "modifyCSV('train.csv')\n",
    "modifyCSV('test.csv')"
   ]
  },
  {
   "cell_type": "code",
   "execution_count": 8,
   "metadata": {
    "collapsed": false
   },
   "outputs": [],
   "source": [
    "from tensorflow.contrib.learn.python.learn.datasets import base\n",
    "\n",
    "train = base.load_csv_without_header(\n",
    "    filename=\"rnn_train.csv\",\n",
    "    target_dtype=np.int,\n",
    "    features_dtype=np.str)\n",
    "test = base.load_csv_without_header(\n",
    "    filename=\"rnn_test.csv\",\n",
    "    target_dtype=np.int,\n",
    "    features_dtype=np.str)\n",
    "\n",
    "dataset = base.Datasets(train=train, validation=None, test=test)\n",
    "x_train = pandas.DataFrame(dataset.train.data)[0]\n",
    "y_train = pandas.Series(dataset.train.target)\n",
    "x_test = pandas.DataFrame(dataset.test.data)[0]\n",
    "y_test = pandas.Series(dataset.test.target)"
   ]
  },
  {
   "cell_type": "code",
   "execution_count": 9,
   "metadata": {
    "collapsed": false
   },
   "outputs": [
    {
     "name": "stdout",
     "output_type": "stream",
     "text": [
      "Total words: 16084\n"
     ]
    }
   ],
   "source": [
    "# Process vocabulary\n",
    "vocab_processor = learn.preprocessing.VocabularyProcessor(MAX_DOCUMENT_LENGTH)\n",
    "x_train = np.array(list(vocab_processor.fit_transform(x_train)))\n",
    "x_test = np.array(list(vocab_processor.transform(x_test)))\n",
    "n_words = len(vocab_processor.vocabulary_)\n",
    "print('Total words: %d' % n_words)"
   ]
  },
  {
   "cell_type": "code",
   "execution_count": 10,
   "metadata": {
    "collapsed": false
   },
   "outputs": [
    {
     "name": "stdout",
     "output_type": "stream",
     "text": [
      "WARNING:tensorflow:Using temporary folder as model directory: /var/folders/mn/_fsc84wx2gl7k2j81cpk_kkc0000gn/T/tmpvofl2R\n",
      "INFO:tensorflow:Using default config.\n",
      "INFO:tensorflow:Using config: {'save_summary_steps': 100, '_num_ps_replicas': 0, '_task_type': None, '_environment': 'local', '_is_chief': True, 'save_checkpoints_secs': 600, '_cluster_spec': <tensorflow.python.training.server_lib.ClusterSpec object at 0x123868050>, 'tf_config': gpu_options {\n",
      "  per_process_gpu_memory_fraction: 1\n",
      "}\n",
      ", '_task_id': 0, 'tf_random_seed': None, 'keep_checkpoint_every_n_hours': 10000, '_evaluation_master': '', 'save_checkpoints_steps': None, '_master': '', 'keep_checkpoint_max': 5}\n",
      "WARNING:tensorflow:From <ipython-input-10-f0d445f480f0>:5 in <module>.: calling fit (from tensorflow.contrib.learn.python.learn.estimators.estimator) with x is deprecated and will be removed after 2016-12-01.\n",
      "Instructions for updating:\n",
      "Estimator is decoupled from Scikit Learn interface by moving into\n",
      "separate class SKCompat. Arguments x, y and batch_size are only\n",
      "available in the SKCompat class, Estimator will only accept input_fn.\n",
      "Example conversion:\n",
      "  est = Estimator(...) -> est = SKCompat(Estimator(...))\n",
      "WARNING:tensorflow:From <ipython-input-10-f0d445f480f0>:5 in <module>.: calling fit (from tensorflow.contrib.learn.python.learn.estimators.estimator) with y is deprecated and will be removed after 2016-12-01.\n",
      "Instructions for updating:\n",
      "Estimator is decoupled from Scikit Learn interface by moving into\n",
      "separate class SKCompat. Arguments x, y and batch_size are only\n",
      "available in the SKCompat class, Estimator will only accept input_fn.\n",
      "Example conversion:\n",
      "  est = Estimator(...) -> est = SKCompat(Estimator(...))\n",
      "INFO:tensorflow:Create CheckpointSaverHook.\n",
      "INFO:tensorflow:loss = 0.691599, step = 1\n",
      "INFO:tensorflow:Saving checkpoints for 1 into /var/folders/mn/_fsc84wx2gl7k2j81cpk_kkc0000gn/T/tmpvofl2R/model.ckpt.\n",
      "WARNING:tensorflow:*******************************************************\n",
      "WARNING:tensorflow:TensorFlow's V1 checkpoint format has been deprecated.\n",
      "WARNING:tensorflow:Consider switching to the more efficient V2 format:\n",
      "WARNING:tensorflow:   `tf.train.Saver(write_version=tf.train.SaverDef.V2)`\n",
      "WARNING:tensorflow:now on by default.\n",
      "WARNING:tensorflow:*******************************************************\n",
      "INFO:tensorflow:Saving checkpoints for 100 into /var/folders/mn/_fsc84wx2gl7k2j81cpk_kkc0000gn/T/tmpvofl2R/model.ckpt.\n",
      "WARNING:tensorflow:*******************************************************\n",
      "WARNING:tensorflow:TensorFlow's V1 checkpoint format has been deprecated.\n",
      "WARNING:tensorflow:Consider switching to the more efficient V2 format:\n",
      "WARNING:tensorflow:   `tf.train.Saver(write_version=tf.train.SaverDef.V2)`\n",
      "WARNING:tensorflow:now on by default.\n",
      "WARNING:tensorflow:*******************************************************\n",
      "INFO:tensorflow:Loss for final step: 2.98531e-05.\n",
      "WARNING:tensorflow:From <ipython-input-10-f0d445f480f0>:7 in <module>.: calling predict (from tensorflow.contrib.learn.python.learn.estimators.estimator) with x is deprecated and will be removed after 2016-12-01.\n",
      "Instructions for updating:\n",
      "Estimator is decoupled from Scikit Learn interface by moving into\n",
      "separate class SKCompat. Arguments x, y and batch_size are only\n",
      "available in the SKCompat class, Estimator will only accept input_fn.\n",
      "Example conversion:\n",
      "  est = Estimator(...) -> est = SKCompat(Estimator(...))\n",
      "WARNING:tensorflow:From <ipython-input-10-f0d445f480f0>:7 in <module>.: calling predict (from tensorflow.contrib.learn.python.learn.estimators.estimator) with as_iterable is deprecated and will be removed after 2016-12-01.\n",
      "Instructions for updating:\n",
      "Estimator is decoupled from Scikit Learn interface by moving into\n",
      "separate class SKCompat. Arguments x, y and batch_size are only\n",
      "available in the SKCompat class, Estimator will only accept input_fn.\n",
      "Example conversion:\n",
      "  est = Estimator(...) -> est = SKCompat(Estimator(...))\n",
      "INFO:tensorflow:Loading model from checkpoint: /var/folders/mn/_fsc84wx2gl7k2j81cpk_kkc0000gn/T/tmpvofl2R/model.ckpt-100-?????-of-00001.\n",
      "Accuracy: 0.854682\n"
     ]
    }
   ],
   "source": [
    "### RNN Classifier ###\n",
    "\n",
    "model_fn = rnn_model\n",
    "classifier = learn.Estimator(model_fn=model_fn)\n",
    "classifier.fit(x_train, y_train, steps=100)\n",
    "y_predicted = [\n",
    "      p['class'] for p in classifier.predict(x_test, as_iterable=True)]\n",
    "score = metrics.accuracy_score(y_test, y_predicted)\n",
    "print('Accuracy: {0:f}'.format(score))"
   ]
  },
  {
   "cell_type": "code",
   "execution_count": null,
   "metadata": {
    "collapsed": true
   },
   "outputs": [],
   "source": []
  }
 ],
 "metadata": {
  "anaconda-cloud": {},
  "kernelspec": {
   "display_name": "Python [Root]",
   "language": "python",
   "name": "Python [Root]"
  },
  "language_info": {
   "codemirror_mode": {
    "name": "ipython",
    "version": 2
   },
   "file_extension": ".py",
   "mimetype": "text/x-python",
   "name": "python",
   "nbconvert_exporter": "python",
   "pygments_lexer": "ipython2",
   "version": "2.7.12"
  }
 },
 "nbformat": 4,
 "nbformat_minor": 1
}
