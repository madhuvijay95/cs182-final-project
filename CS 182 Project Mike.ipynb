{
 "cells": [
  {
   "cell_type": "markdown",
   "metadata": {},
   "source": [
    "# CS 182: Mike\n",
    "\n",
    "We decided to use two data sets.\n",
    "\n",
    "# Github Data \n",
    "\n",
    "Our primary data set is from Peter Downs via Github.\n",
    "\n",
    "Link: https://github.com/peterldowns/clickbait-classifier"
   ]
  },
  {
   "cell_type": "code",
   "execution_count": 19,
   "metadata": {
    "collapsed": false
   },
   "outputs": [],
   "source": [
    "%matplotlib inline\n",
    "import datetime\n",
    "import json\n",
    "import numpy as np\n",
    "import scipy as sp\n",
    "import matplotlib as mpl\n",
    "import matplotlib.cm as cm\n",
    "import matplotlib.pyplot as plt\n",
    "import pandas as pd\n",
    "import re\n",
    "pd.set_option('display.width', 500)\n",
    "pd.set_option('display.max_columns', 100)\n",
    "pd.set_option('display.notebook_repr_html', True)\n",
    "import seaborn as sns\n",
    "sns.set_style('darkgrid')\n",
    "sns.set_context('poster')\n",
    "import warnings\n",
    "warnings.simplefilter(action = 'ignore', category = FutureWarning)\n",
    "warnings.simplefilter(action = 'ignore', category = UserWarning)\n",
    "warnings.simplefilter(action = 'ignore', category = DeprecationWarning)"
   ]
  },
  {
   "cell_type": "code",
   "execution_count": 20,
   "metadata": {
    "collapsed": false
   },
   "outputs": [],
   "source": [
    "# collect data\n",
    "df1 = pd.read_json('https://raw.githubusercontent.com/peterldowns/clickbait-classifier/master/data/buzzfeed.json')\n",
    "df2 = pd.read_json('https://raw.githubusercontent.com/peterldowns/clickbait-classifier/master/data/clickhole.json')\n",
    "df3 = pd.read_json('https://raw.githubusercontent.com/peterldowns/clickbait-classifier/master/data/dose.json')\n",
    "df4 = pd.read_json('https://raw.githubusercontent.com/peterldowns/clickbait-classifier/master/data/nytimes.json')"
   ]
  },
  {
   "cell_type": "code",
   "execution_count": 21,
   "metadata": {
    "collapsed": false
   },
   "outputs": [
    {
     "name": "stdout",
     "output_type": "stream",
     "text": [
      "There are 367 Buzzfeed, 3104 NYT, 547 Clickhole, and 2182 Daily Dose articles in the Github data set.\n"
     ]
    }
   ],
   "source": [
    "print 'There are', len(df1), 'Buzzfeed,', len(df4), 'NYT,', len(df2), 'Clickhole, and', len(df3), 'Daily Dose articles in the Github data set.'"
   ]
  },
  {
   "cell_type": "code",
   "execution_count": 22,
   "metadata": {
    "collapsed": true
   },
   "outputs": [],
   "source": [
    "# label data before concatenating\n",
    "df1['source'] = 'Buzzfeed'\n",
    "df2['source'] = 'Clickhole'\n",
    "df3['source'] = 'Daily Dose'\n",
    "df4['source'] = 'NY Times'"
   ]
  },
  {
   "cell_type": "code",
   "execution_count": 23,
   "metadata": {
    "collapsed": false
   },
   "outputs": [
    {
     "name": "stdout",
     "output_type": "stream",
     "text": [
      "                                       article_title                                        article_url  clickbait    source\n",
      "0             23 Life Lessons Cosmo Kramer Taught Us  /javiermoreno/ife-lessons-you-learned-from-cos...          1  Buzzfeed\n",
      "1          32 Men On TV Who Made You Thirsty In 2014  /erinlarosa/32-tv-men-who-made-you-thirsty-in-...          1  Buzzfeed\n",
      "2          Hilary Duff Was The Walking Queen Of 2014  /lyapalater/hilary-duff-was-the-walking-queen-...          1  Buzzfeed\n",
      "3        25 Reasons Wine Is Definitely Your Soulmate  /emleschh/25-reasons-why-wine-is-your-soulmate...          1  Buzzfeed\n",
      "4  This Master Carver Making Pliers From One Stic...          /norbertobriceno/ernest-macguyver-warther          1  Buzzfeed\n"
     ]
    }
   ],
   "source": [
    "# join publications\n",
    "gh_data = pd.concat([df1[['article_title','article_url','clickbait','source']], df2, df3, df4[['article_title','clickbait','source']]])\n",
    "print gh_data.head()"
   ]
  },
  {
   "cell_type": "code",
   "execution_count": 24,
   "metadata": {
    "collapsed": false
   },
   "outputs": [],
   "source": [
    "def removeNonAscii(s): return \"\".join(i for i in s if ord(i)<128)\n",
    "\n",
    "titles = open('article_titles.txt', 'w')\n",
    "counter = 0\n",
    "for i in gh_data['article_title']:\n",
    "    nonAscii = removeNonAscii(i)\n",
    "    strlist = list(nonAscii)\n",
    "    for idx, character in enumerate(strlist):\n",
    "        if character.isupper() and idx != 0 and strlist[idx - 1] != ' ':\n",
    "            strlist[idx] = character.lower()\n",
    "        if idx == len(strlist) - 1:\n",
    "            if character != '.' and character != '!' and character != '?':\n",
    "                strlist.append('.')\n",
    "                strlist.append(' ')\n",
    "                break\n",
    "    titles.write(''.join(strlist))\n",
    "    #print ''.join(strlist)\n",
    "titles.close()"
   ]
  },
  {
   "cell_type": "code",
   "execution_count": 30,
   "metadata": {
    "collapsed": false
   },
   "outputs": [
    {
     "name": "stdout",
     "output_type": "stream",
     "text": [
      "People Post The Craziest Of Adventures Using Photoshop.\n",
      "27 Kids That Always Need To Take Over Defense Of Controls on Satellite Exports.\n",
      "10 Weird Laws From Around The World That Will Really Get Mad At.\n",
      "25 Times Our Shadows Didn't Quite Capture What Was Once An Abandoned Walmart...but Now It's Something Much Greater.\n",
      "This Artist Is Stitching Together Things I Never Think Of #1?\n"
     ]
    }
   ],
   "source": [
    "import markovify\n",
    "\n",
    "with open(\"article_titles.txt\") as f:\n",
    "    text = f.read()\n",
    "\n",
    "# state_size=3 results look cleaner, but are less novel and more likely to closely resemble a headline in the corpus.\n",
    "text_model = markovify.Text(text, state_size=2)\n",
    "\n",
    "for i in range(5):\n",
    "    print(text_model.make_sentence())"
   ]
  },
  {
   "cell_type": "code",
   "execution_count": null,
   "metadata": {
    "collapsed": true
   },
   "outputs": [],
   "source": []
  }
 ],
 "metadata": {
  "kernelspec": {
   "display_name": "Python [Root]",
   "language": "python",
   "name": "Python [Root]"
  },
  "language_info": {
   "codemirror_mode": {
    "name": "ipython",
    "version": 2
   },
   "file_extension": ".py",
   "mimetype": "text/x-python",
   "name": "python",
   "nbconvert_exporter": "python",
   "pygments_lexer": "ipython2",
   "version": "2.7.12"
  }
 },
 "nbformat": 4,
 "nbformat_minor": 1
}
